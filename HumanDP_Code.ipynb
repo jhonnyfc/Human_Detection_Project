{
 "cells": [
  {
   "cell_type": "markdown",
   "metadata": {},
   "source": [
    "# P. Visión"
   ]
  },
  {
   "cell_type": "code",
   "execution_count": 9,
   "metadata": {},
   "outputs": [],
   "source": [
    "import numpy as np\n",
    "import cv2\n",
    "import os\n",
    "import random\n",
    "from skimage.feature import hog\n",
    "from skimage import exposure\n",
    "from sklearn import svm"
   ]
  },
  {
   "cell_type": "code",
   "execution_count": 10,
   "metadata": {},
   "outputs": [],
   "source": [
    "def leerFotos(path):\n",
    "    os.chdir(path)\n",
    "    listaPos = os.listdir()\n",
    "    fotosDic = {}\n",
    "    for i in range(len(listaPos)):\n",
    "        fotosDic[i] = cv2.imread(listaPos[i],0)\n",
    "    return fotosDic"
   ]
  },
  {
   "cell_type": "code",
   "execution_count": 11,
   "metadata": {},
   "outputs": [],
   "source": [
    "path = 'C:\\\\Users\\\\Jhonny Chicaiza\\\\Desktop\\\\Human_Detection_Project-master\\\\train_pos'\n",
    "fotosPosTrain = leerFotos(path)\n",
    "\n",
    "path = 'C:\\\\Users\\\\Jhonny Chicaiza\\\\Desktop\\\\Human_Detection_Project-master\\\\train_neg'\n",
    "fotosNegTrainSinTratar = leerFotos(path)"
   ]
  },
  {
   "cell_type": "code",
   "execution_count": 27,
   "metadata": {},
   "outputs": [],
   "source": [
    "def generaImagenesRecortadas(dataPos,dataNeg):    \n",
    "    numeroAleatoriasPorFoto = 3       # Numero de recortadas aleatorias por foto\n",
    "    rowsFotoPersona = dataPos[0].shape[0]\n",
    "    colsFotoPersona = dataPos[0].shape[1]\n",
    "\n",
    "    rowsFotoEntorno = dataNeg[0].shape[0]\n",
    "    colsFotoEntorno = dataNeg[0].shape[1]\n",
    "\n",
    "    fotosNegTrain = {}\n",
    "    for i in range(len(dataNeg)):      \n",
    "        for j in range(numeroAleatoriasPorFoto):\n",
    "            randRow = random.randint(0,rowsFotoEntorno - rowsFotoPersona)\n",
    "            randCol = random.randint(0,colsFotoEntorno - colsFotoPersona)\n",
    "            randomImage = dataNeg[i][randRow:randRow + rowsFotoPersona,randCol: randCol + colsFotoPersona]\n",
    "            fotosNegTrain[j+numeroAleatoriasPorFoto*i] = randomImage \n",
    "    return fotosNegTrain"
   ]
  },
  {
   "cell_type": "code",
   "execution_count": 28,
   "metadata": {},
   "outputs": [],
   "source": [
    "def vectolizarHOG(imagenes,esPositivo):\n",
    "    ### Esata funcion aplica HOG a todas las imagenes del diccionario\n",
    "    \n",
    "    #tamaño del vector\n",
    "    tamVector = len(hog(imagenes[0]))\n",
    "    \n",
    "    #inicializamos la matriz que guarda los imagenes vectolizados\n",
    "    fdImagenes = np.zeros((len(imagenes),tamVector))\n",
    "    \n",
    "    for i in range(len(imagenes)):\n",
    "        fdImagenes[i] = hog(imagenes[i])\n",
    "    \n",
    "    #asignamos el vector de clases(y) \n",
    "    if esPositivo:\n",
    "        y = np.ones((len(imagenes),1))\n",
    "    else:\n",
    "        y = np.zeros((len(imagenes),1))\n",
    "\n",
    "    return fdImagenes,y"
   ]
  },
  {
   "cell_type": "code",
   "execution_count": 39,
   "metadata": {},
   "outputs": [],
   "source": [
    "fotosNegTrain = generaImagenesRecortadas(fotosPosTrain,fotosNegTrainSinTratar)"
   ]
  },
  {
   "cell_type": "code",
   "execution_count": 40,
   "metadata": {},
   "outputs": [],
   "source": [
    "fdPosTrain,yPos = vectolizarHOG(fotosPosTrain,1)\n",
    "\n",
    "fdNegTrain,yNeg = vectolizarHOG(fotosNegTrain,0)"
   ]
  },
  {
   "cell_type": "code",
   "execution_count": 41,
   "metadata": {},
   "outputs": [],
   "source": [
    "fotosTrain = np.vstack((fdPosTrain,fdNegTrain))\n",
    "y = np.vstack((yPos,yNeg))"
   ]
  },
  {
   "cell_type": "code",
   "execution_count": 98,
   "metadata": {},
   "outputs": [
    {
     "name": "stderr",
     "output_type": "stream",
     "text": [
      "C:\\Users\\Jhonny Chicaiza\\Anaconda3\\envs\\py37vision\\lib\\site-packages\\sklearn\\utils\\validation.py:724: DataConversionWarning: A column-vector y was passed when a 1d array was expected. Please change the shape of y to (n_samples, ), for example using ravel().\n",
      "  y = column_or_1d(y, warn=True)\n",
      "C:\\Users\\Jhonny Chicaiza\\Anaconda3\\envs\\py37vision\\lib\\site-packages\\sklearn\\svm\\base.py:193: FutureWarning: The default value of gamma will change from 'auto' to 'scale' in version 0.22 to account better for unscaled features. Set gamma explicitly to 'auto' or 'scale' to avoid this warning.\n",
      "  \"avoid this warning.\", FutureWarning)\n"
     ]
    },
    {
     "data": {
      "text/plain": [
       "SVC(C=0.1, cache_size=200, class_weight=None, coef0=0.0,\n",
       "    decision_function_shape='ovr', degree=3, gamma='auto_deprecated',\n",
       "    kernel='rbf', max_iter=-1, probability=False, random_state=None,\n",
       "    shrinking=True, tol=0.001, verbose=False)"
      ]
     },
     "execution_count": 98,
     "metadata": {},
     "output_type": "execute_result"
    }
   ],
   "source": [
    "clf = svm.SVC(C = 0.1)\n",
    "clf.fit(fotosTrain,y)"
   ]
  },
  {
   "cell_type": "code",
   "execution_count": 99,
   "metadata": {},
   "outputs": [
    {
     "data": {
      "text/plain": [
       "0.0"
      ]
     },
     "execution_count": 99,
     "metadata": {},
     "output_type": "execute_result"
    }
   ],
   "source": [
    "clf.score(fdPosTrain,yPos)"
   ]
  },
  {
   "cell_type": "code",
   "execution_count": 63,
   "metadata": {},
   "outputs": [],
   "source": [
    "def secImagen(imagen,maskHeight,maskWidth,desp):\n",
    "    arrayImagen = {}\n",
    "    aux = 0\n",
    "    for i in range(0,imagen.shape[0],desp):        \n",
    "        for j in range(0,imagen.shape[1],desp):\n",
    "            if (i+maskHeight < imagen.shape[0] and j+maskWidth < imagen.shape[1]):\n",
    "                arrayImagen[aux] = imagen[i:i+maskHeight,j:j+maskWidth]\n",
    "                aux = aux + 1\n",
    "    return arrayImagen"
   ]
  },
  {
   "cell_type": "code",
   "execution_count": 64,
   "metadata": {},
   "outputs": [],
   "source": [
    "path = 'C:\\\\Users\\Jhonny Chicaiza\\\\Desktop\\\\Human_Detection_Project-master\\\\Test\\\\pos'\n",
    "fotostest = leerFotos(path)"
   ]
  },
  {
   "cell_type": "code",
   "execution_count": 65,
   "metadata": {},
   "outputs": [],
   "source": [
    "partImagen = secImagen(fotostest[6],134,70,10)"
   ]
  },
  {
   "cell_type": "code",
   "execution_count": 84,
   "metadata": {},
   "outputs": [],
   "source": [
    "listOk = []\n",
    "for i in range(len(partImagen)):\n",
    "    prueba = hog(partImagen[i])\n",
    "    if (1 == clf.predict(prueba.reshape(1,-1))):\n",
    "        listOk.append(i)"
   ]
  },
  {
   "cell_type": "code",
   "execution_count": 96,
   "metadata": {},
   "outputs": [],
   "source": [
    "cv2.imshow('img ', fotostest[6])\n",
    "cv2.imshow('xd ', partImagen[279])\n",
    "cv2.waitKey(0)\n",
    "cv2.destroyAllWindows()"
   ]
  },
  {
   "cell_type": "code",
   "execution_count": 97,
   "metadata": {},
   "outputs": [],
   "source": [
    "#print(listOk)"
   ]
  },
  {
   "cell_type": "code",
   "execution_count": null,
   "metadata": {},
   "outputs": [],
   "source": []
  }
 ],
 "metadata": {
  "kernelspec": {
   "display_name": "Python [conda env:py37vision] *",
   "language": "python",
   "name": "conda-env-py37vision-py"
  },
  "language_info": {
   "codemirror_mode": {
    "name": "ipython",
    "version": 3
   },
   "file_extension": ".py",
   "mimetype": "text/x-python",
   "name": "python",
   "nbconvert_exporter": "python",
   "pygments_lexer": "ipython3",
   "version": "3.7.4"
  }
 },
 "nbformat": 4,
 "nbformat_minor": 2
}
