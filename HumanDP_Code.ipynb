{
 "cells": [
  {
   "cell_type": "markdown",
   "metadata": {},
   "source": [
    "# Human Detection Project\n",
    "\n",
    "## Índice:\n",
    "\n",
    "- [Lectura de imágenes](#Lectura-de-imágenes)\n",
    "    - [Fotos Train](#Fotos-Train)\n",
    "    - [Fotos Test](#Fotos-Test)\n",
    "- [Tratamiento de las imagenes Train](#Tratamiento-de-las-imagenes-Train)\n",
    "    - [Recorte Fotos Train Negativa](#Recorte-Fotos-Train-Negativa)\n",
    "    - [Ampliación del Rango Dinámico, Transformación de Intensidad y Suavizado](#Ampliación-del-Rango-Dinámico,-Transformación-de-Intensidad-y-Suavizado)\n",
    "- [Extracción de Caracterísitcas](#Extracción-de-Caracterísitcas)\n",
    "- [Particionamiento de los conjuntos (Train y Validación)](#Particionamiento-de-los-conjuntos-(Train-y-Validación))\n",
    "- [Entrenamiento del modelo](#Entrenamiento-del-modelo)\n",
    "- [Slide Window](#Slide-Window)\n",
    "- [Gaussian Pyramid](#Gaussian-Pyramid)\n",
    "- [Supresión de No Maximos](#Supresión-de-No-Maximos)\n",
    "- [Prueba del Modelo](#Prueba-del-Modelo)\n",
    "\n",
    "\n",
    "\n",
    "\n",
    "\n",
    "\n",
    "Autores:\n",
    "- Jhonny Fabricio, Chicaiza Palomo https://github.com/jhonnyfc\n",
    "- Hanwei, ke https://github.com/Sendaia\n",
    "- David, Soto Arbizu https://github.com/Kirtasth\n",
    "\n",
    "\n",
    "- Link del proyecto github: https://github.com/jhonnyfc/Human_Detection_Project"
   ]
  },
  {
   "cell_type": "code",
   "execution_count": 1,
   "metadata": {},
   "outputs": [],
   "source": [
    "import numpy as np\n",
    "import cv2\n",
    "import os\n",
    "import random\n",
    "from skimage.feature import hog\n",
    "from skimage import exposure\n",
    "from sklearn import svm\n",
    "from sklearn.decomposition import PCA\n",
    "from skimage.transform import pyramid_gaussian\n",
    "import matplotlib.pyplot as plt\n",
    "np.random.seed(1234)"
   ]
  },
  {
   "cell_type": "markdown",
   "metadata": {},
   "source": [
    "# Lectura de imágenes\n",
    "\n",
    "\n",
    "****\n",
    "**Si las carpetas estan en el mismo directorio que el codigo no hace falta poner la ruta, solo con el nombre o la subruta basta**"
   ]
  },
  {
   "cell_type": "markdown",
   "metadata": {},
   "source": [
    "##### leerFotos:\n",
    "- Lee todas las fotos del directorio (Path) y las guarda en un diccionario."
   ]
  },
  {
   "cell_type": "code",
   "execution_count": 2,
   "metadata": {},
   "outputs": [],
   "source": [
    "def leerFotos(nombre,ini = 0):\n",
    "    dirPrincipal = os.path.abspath(os.getcwd())\n",
    "    os.chdir(dirPrincipal+'\\\\'+nombre)\n",
    "    listaPos = os.listdir()\n",
    "    fotosDic = {}\n",
    "    \n",
    "    for i in range(ini,len(listaPos)+ini):\n",
    "        fotosDic[i] = cv2.imread(listaPos[i-ini],0)\n",
    "    os.chdir(dirPrincipal) \n",
    "    return fotosDic"
   ]
  },
  {
   "cell_type": "markdown",
   "metadata": {},
   "source": [
    "##### duplicaTrain:\n",
    "- Crea imágenes espejo para tener más ejemplos de Train Positivas."
   ]
  },
  {
   "cell_type": "code",
   "execution_count": 3,
   "metadata": {},
   "outputs": [],
   "source": [
    "def duplicaTrain(fotos):\n",
    "    indx = len(fotos)\n",
    "    for i in range(len(fotos)):\n",
    "        fotos[indx+i] = cv2.flip(fotos[i], 1)\n",
    "        \n",
    "    return fotos"
   ]
  },
  {
   "cell_type": "markdown",
   "metadata": {},
   "source": [
    "### Fotos Tain"
   ]
  },
  {
   "cell_type": "code",
   "execution_count": 4,
   "metadata": {},
   "outputs": [],
   "source": [
    "fotosPosTrain0 = leerFotos('train_pos')\n",
    "fotosPosTrain0 = duplicaTrain(fotosPosTrain0)\n",
    "\n",
    "fotosNegTrainSinTratar = leerFotos('train_neg')"
   ]
  },
  {
   "cell_type": "markdown",
   "metadata": {},
   "source": [
    "### Fotos Test"
   ]
  },
  {
   "cell_type": "code",
   "execution_count": 5,
   "metadata": {},
   "outputs": [],
   "source": [
    "fotosTest0 = leerFotos('Test\\\\pos')\n",
    "fotosTest0.update(leerFotos('Test\\\\neg',len(fotosTest0)))"
   ]
  },
  {
   "cell_type": "markdown",
   "metadata": {},
   "source": [
    "# Tratamiento de las imagenes Train"
   ]
  },
  {
   "cell_type": "markdown",
   "metadata": {},
   "source": [
    "##### generaImagenesRecortadas:\n",
    "\n",
    "- Como el tamaño de las imágenes Train negativas no coincide con las Train positivas no podemos aplicar directamente HOG, por lo que vamos ha escoger aleatoriamente en cada imagen train negativa recortes de la misma dimension.\n",
    "\n",
    "\n",
    "- **dataNeg**: diccionario con las fotos Train Negativas\n",
    "- **winSize**: tamaño de la ventana ~> [alto,ancho]\n",
    "- **numeroCortesxPh**: número de cortes por imagen"
   ]
  },
  {
   "cell_type": "code",
   "execution_count": 6,
   "metadata": {},
   "outputs": [],
   "source": [
    "def generaImagenesRecortadas(dataNeg,winSize,numeroCortesxPh = 20):\n",
    "    rowsFotoPersona = winSize[0]\n",
    "    colsFotoPersona = winSize[1]\n",
    "    \n",
    "    fotosNegTrain = {}\n",
    "    for i in range(len(dataNeg)):      \n",
    "        rowsFotoEntorno = dataNeg[i].shape[0]\n",
    "        colsFotoEntorno = dataNeg[i].shape[1]\n",
    "        dimCol = colsFotoEntorno - colsFotoPersona\n",
    "        dimRow = rowsFotoEntorno - rowsFotoPersona\n",
    "        \n",
    "        for j in range(numeroCortesxPh):\n",
    "            randRow = random.randint(0,dimRow-1)\n",
    "            randCol = random.randint(0,dimCol-1)\n",
    "            randomImage = dataNeg[i][randRow:randRow + rowsFotoPersona ,randCol: randCol + colsFotoPersona]\n",
    "            fotosNegTrain[j+numeroCortesxPh*i] = randomImage\n",
    "            \n",
    "    return fotosNegTrain"
   ]
  },
  {
   "cell_type": "markdown",
   "metadata": {},
   "source": [
    "### Ampliación del Rango Dinámico, Transformación de Intensidad y Suavizado\n",
    "\n",
    "Se ha decidido cambiar la dimension de las imagenes de train de 134x70 ~> 128x64 para recuperar más características"
   ]
  },
  {
   "cell_type": "code",
   "execution_count": 7,
   "metadata": {},
   "outputs": [],
   "source": [
    "winSize = 128,64"
   ]
  },
  {
   "cell_type": "code",
   "execution_count": 8,
   "metadata": {},
   "outputs": [],
   "source": [
    "def recortaTrainPos(fotosPos,winSize):\n",
    "    x,y = fotosPos[0].shape\n",
    "    \n",
    "    for i in range(len(fotosPos)):\n",
    "        incX = (x - winSize[0])//2\n",
    "        incY = (y - winSize[1])//2    \n",
    "        fotosPos[i] = fotosPos[i][incX:x-incX,incY:y-incY]\n",
    "        \n",
    "    return fotosPos"
   ]
  },
  {
   "cell_type": "code",
   "execution_count": 9,
   "metadata": {},
   "outputs": [],
   "source": [
    "def ampRangoSet(fotos):\n",
    "    fotSal = {}\n",
    "    gamma = 0.35\n",
    "    \n",
    "    for i in range(len(fotos)):\n",
    "        r1 = np.min(fotos[i])\n",
    "        r2 = np.max(fotos[i])\n",
    "        fotSal[i] = np.float32(fotos[i])\n",
    "        fotSal[i] = 255*(fotSal[i]-r1)/(r2-r1)\n",
    "        fotSal[i] = np.array(255*(fotSal[i] / 255) ** gamma, dtype = 'uint8')\n",
    "        \n",
    "    return fotSal"
   ]
  },
  {
   "cell_type": "code",
   "execution_count": 10,
   "metadata": {},
   "outputs": [],
   "source": [
    "def trataFotos(fotos,kernelSize = 3):\n",
    "    fotSal = {}\n",
    "    ## Ampliación del rango\n",
    "    fotSal = ampRangoSet(fotos)\n",
    "\n",
    "    ## Suavizado\n",
    "    n = kernelSize #tamaño del filtro\n",
    "    sigma = 3 #desviación de la gaussiana\n",
    "    mask = cv2.getGaussianKernel(n, sigma)*cv2.getGaussianKernel(n, sigma).T\n",
    "    \n",
    "    for i in range(len(fotSal)):\n",
    "        fotSal[i] = cv2.filter2D(fotSal[i],-1,mask)\n",
    "        \n",
    "    return fotSal"
   ]
  },
  {
   "cell_type": "code",
   "execution_count": 11,
   "metadata": {},
   "outputs": [],
   "source": [
    "## Tamaño del filtro de suavizado\n",
    "dimFiltro = 5\n",
    "\n",
    "fotosPosTrain0 = recortaTrainPos(fotosPosTrain0,winSize)\n",
    "fotosPosTrain = trataFotos(fotosPosTrain0,dimFiltro)\n",
    "fotosNegTrainTratadas = trataFotos(fotosNegTrainSinTratar,dimFiltro)\n",
    "fotosNegTrain = generaImagenesRecortadas(fotosNegTrainTratadas,winSize)\n",
    "\n",
    "fotosTest = trataFotos(fotosTest0,dimFiltro)"
   ]
  },
  {
   "cell_type": "markdown",
   "metadata": {},
   "source": [
    "# Extracción de Caracterísitcas"
   ]
  },
  {
   "cell_type": "markdown",
   "metadata": {},
   "source": [
    "## Hog (Histogram of Oriented Gradients)\n",
    "HOG es un extractor de características de las imágens que se basa en el conteo de las orientaciones del gradiente. El algoritmo divide una imagen en bloques, realiza el conteo de las orientaciones y las fusiona por agrupaciones de bloques. \n",
    "\n",
    "Los parámetros de entrada son:\n",
    "* **orientations**: número de orientaciones.\n",
    "* **pixels_per_cell**: tamaño de la celda.\n",
    "* **cells_per_block**: número de celdas por cada bloque.\n",
    "* **block_norm**: método de normalización de bloques:\n",
    "    * L1:\n",
    "       Normalization using L1-norm.\n",
    "    * L1-sqrt:\n",
    "       Normalization using L1-norm, followed by square root.\n",
    "    * L2:\n",
    "       Normalization using L2-norm.\n",
    "    * L2-Hys:\n",
    "       Normalization using L2-norm, followed by limiting the\n",
    "       maximum values to 0.2 (`Hys` stands for `hysteresis`) and\n",
    "       renormalization using L2-norm. (default)\n",
    "* **visualize**: True/False devuelve la imagen procesada en la salida.\n",
    "* **visualise**: True/False\n",
    "* **transform_sqrt**: aplica la compresión de la ley potencial para normalizar la imagen antes del procesamiento.\n",
    "* **feature_vector**: devolver los datos como un vector.\n",
    "\n",
    "Mas info de la función en los siguintes link:\n",
    "- https://scikit-image.org/docs/dev/api/skimage.feature.html#skimage.feature.hog\n",
    "- https://scikit-image.org/docs/dev/auto_examples/features_detection/plot_hog.html"
   ]
  },
  {
   "cell_type": "markdown",
   "metadata": {},
   "source": [
    "Los parametros de entrada seleccionados son:"
   ]
  },
  {
   "cell_type": "code",
   "execution_count": 12,
   "metadata": {},
   "outputs": [],
   "source": [
    "orientations    = 9\n",
    "pixels_per_cell = (8, 8)\n",
    "cells_per_block = (2, 2)\n",
    "block_norm      = 'L2' \n",
    "visualize       = False\n",
    "visualise       = None\n",
    "transform_sqrt  = True\n",
    "feature_vector  = True"
   ]
  },
  {
   "cell_type": "markdown",
   "metadata": {},
   "source": [
    " ##### featuresExtrac:\n",
    " - Extracción de las Caractrisiticas.\n",
    " \n",
    " \n",
    " - **imagenes**: diccionario con las imágenes a tratar.\n",
    " - **esPositivo**: 1 si es clase positiva, 0 en caso contrario."
   ]
  },
  {
   "cell_type": "code",
   "execution_count": 13,
   "metadata": {},
   "outputs": [],
   "source": [
    "def featuresExtrac(imagenes,esPositivo):    \n",
    "    ## Tamaño del vector\n",
    "    auxDim = hog(imagenes[0],orientations,pixels_per_cell,cells_per_block,block_norm,visualize,visualise,transform_sqrt,feature_vector)\n",
    "    tamHog = len(auxDim)\n",
    "    \n",
    "    #inicializamos la matriz que guarda los imagenes vectolizados\n",
    "    fdImagenesHog = np.zeros((len(imagenes),tamHog))\n",
    "    \n",
    "    for i in range(len(imagenes)):\n",
    "        fdImagenesHog[i,:] = hog(imagenes[i],orientations,pixels_per_cell,cells_per_block,block_norm,visualize,visualise,transform_sqrt,feature_vector)\n",
    "        \n",
    "    #asignamos el vector de clases(y) \n",
    "    if esPositivo:\n",
    "        y = np.ones((len(imagenes),1))\n",
    "    else:\n",
    "        y = np.zeros((len(imagenes),1))\n",
    "\n",
    "    return fdImagenesHog,y"
   ]
  },
  {
   "cell_type": "code",
   "execution_count": 14,
   "metadata": {},
   "outputs": [],
   "source": [
    "fdPosTrainHog,yPos = featuresExtrac(fotosPosTrain,1)\n",
    "fdNegTrainHog,yNeg = featuresExtrac(fotosNegTrain,0)\n",
    "\n",
    "fdTrainHog = np.vstack((fdPosTrainHog,fdNegTrainHog))\n",
    "y = np.vstack((yPos,yNeg))"
   ]
  },
  {
   "cell_type": "markdown",
   "metadata": {},
   "source": [
    "# Particionamiento de los conjuntos (Train y Validación)"
   ]
  },
  {
   "cell_type": "code",
   "execution_count": 15,
   "metadata": {},
   "outputs": [],
   "source": [
    "def particionar(Xin,yin,dim):\n",
    "    # Utilizamo solo los Dim primeros elemtos para que las clases esten balanceadas\n",
    "    X = Xin[:dim,:]\n",
    "    y = yin[:dim]\n",
    "    # Obtenemos el número de ejemplos actuales en train\n",
    "    numEj = X.shape[0]\n",
    "    \n",
    "    # Utiliza np.random.permutation para obtener la localización de los ejemplos aleatoriamente\n",
    "    # Luego aplica estos nuevos índices a X e y para reordenarlos aleatoriamente\n",
    "    indx = np.random.permutation(numEj)\n",
    "    \n",
    "    # Establece el número de ejemplos en mtrain y mval como el 75% y 25% de ejemplos en X\n",
    "    Xp = X[indx.ravel(),:]\n",
    "    yp = y[indx.ravel()]\n",
    "    \n",
    "    mtrain = int(np.round(0.75*numEj))\n",
    "    \n",
    "    # Crea los nuevos conjuntos Xtrain, ytrain y Xval, yval\n",
    "    Xtrain = Xp[:mtrain,:]\n",
    "    Xval   = Xp[mtrain:,:]\n",
    "    ytrain = yp[:mtrain]\n",
    "    yval   = yp[mtrain:]\n",
    "    \n",
    "    return (Xtrain, Xval, ytrain, yval)"
   ]
  },
  {
   "cell_type": "markdown",
   "metadata": {},
   "source": [
    "Creamos el conjunto train con el 75% de los datos, ademas utilizamos solo 3113 de los 5166 ejemplos, para que las clases esten balanceadas"
   ]
  },
  {
   "cell_type": "code",
   "execution_count": 16,
   "metadata": {},
   "outputs": [],
   "source": [
    "XTrain, XVal, yTrain, yVal = particionar(fdTrainHog,y,3113)"
   ]
  },
  {
   "cell_type": "markdown",
   "metadata": {},
   "source": [
    "# Entrenamiento del modelo"
   ]
  },
  {
   "cell_type": "markdown",
   "metadata": {},
   "source": [
    "## SVM (Support Vector Machine)"
   ]
  },
  {
   "cell_type": "markdown",
   "metadata": {},
   "source": [
    "SVM es un algoritmo de aprendizaje supervisado que resuelve problemas de clasificación y regresión. Dado un conjunto de ejemplos de entrenamiento (Train) podemos etiquetar las clases y entrenar una SVM para construir un modelo que prediga la clase de una nueva muestra.\n",
    "\n",
    "More info:\n",
    "\n",
    "- https://scikit-learn.org/stable/modules/svm.html"
   ]
  },
  {
   "cell_type": "markdown",
   "metadata": {},
   "source": [
    "Se ha decidido utilizar kernel lineal debido a que ya tenemos suficientes características"
   ]
  },
  {
   "cell_type": "markdown",
   "metadata": {},
   "source": [
    "##### creaModelo:\n",
    "- Busca el mejor valor de C para el clasificador"
   ]
  },
  {
   "cell_type": "code",
   "execution_count": 17,
   "metadata": {},
   "outputs": [],
   "source": [
    "def creaModelo(X,y,Xval,yval):\n",
    "    C_values = [0.001,0.01, 0.03, 0.1, 0.3, 1, 3, 10, 30,50, 100,1000]\n",
    "\n",
    "    best_accVal = 0\n",
    "    best_params = {'C': None,'clf':None}\n",
    "\n",
    "    for C in C_values:\n",
    "            clf = svm.LinearSVC(C = C)\n",
    "            clf.fit(X,y.ravel())\n",
    "            \n",
    "            # Obtenemos la precisión en los datos de validación\n",
    "            accVal = clf.score(Xval,yval.ravel())\n",
    "            \n",
    "            # Si la precisión actual es mejor que la mejor encontrada hasta ahora...\n",
    "            if accVal > best_accVal:\n",
    "                # Guardamos la mejor precisión encontrada y los parámetros usados\n",
    "                best_accVal = accVal\n",
    "                best_params['C'] = C\n",
    "                best_params['clf'] = clf\n",
    "                \n",
    "    C = best_params['C'] \n",
    "    print('El mejor valor de C es:',C)\n",
    "    \n",
    "    return best_params['clf']"
   ]
  },
  {
   "cell_type": "code",
   "execution_count": 18,
   "metadata": {},
   "outputs": [
    {
     "name": "stdout",
     "output_type": "stream",
     "text": [
      "El mejor valor de C es: 0.03\n"
     ]
    }
   ],
   "source": [
    "clfHog = creaModelo(XTrain,yTrain,XVal,yVal)"
   ]
  },
  {
   "cell_type": "markdown",
   "metadata": {},
   "source": [
    "#### Precisión con los conjuntos de train y validacion"
   ]
  },
  {
   "cell_type": "code",
   "execution_count": 19,
   "metadata": {},
   "outputs": [
    {
     "name": "stdout",
     "output_type": "stream",
     "text": [
      "Precision en Train:  1.0\n",
      "Precision en Validacion: 0.9820051413881749\n"
     ]
    }
   ],
   "source": [
    "print('Precision en Train: ',clfHog.score(XTrain,yTrain.ravel()))\n",
    "print('Precision en Validacion:',clfHog.score(XVal,yVal.ravel()))"
   ]
  },
  {
   "cell_type": "markdown",
   "metadata": {},
   "source": [
    "# Slide Window"
   ]
  },
  {
   "cell_type": "markdown",
   "metadata": {},
   "source": [
    "##### slidWindow:\n",
    "- Extrae ventanes de las imágenes para su estudio.\n",
    "\n",
    "\n",
    "- **winSize**: tamaño de la ventana ~> [alto,ancho].\n",
    "- **step**: paso del desplazamiento de la ventana en la imagen."
   ]
  },
  {
   "cell_type": "code",
   "execution_count": 20,
   "metadata": {},
   "outputs": [],
   "source": [
    "def slidWindow(imagen, winSize,step = 10):\n",
    "    arrayImagen = []\n",
    "    \n",
    "    for i in range(0,imagen.shape[0]- winSize[0],step):        \n",
    "        for j in range(0,imagen.shape[1]- winSize[1],step):\n",
    "            arrayImagen.append((i,j,imagen[i:i+ winSize[0], j:j + winSize[1]]))\n",
    "    \n",
    "    return arrayImagen"
   ]
  },
  {
   "cell_type": "markdown",
   "metadata": {},
   "source": [
    "# Gaussian Pyramid"
   ]
  },
  {
   "cell_type": "markdown",
   "metadata": {},
   "source": [
    "##### estudiaFoto:\n",
    "- Realiza la piramide gaussian de la imagen de entrada y aplica a cada nivel la funcion ventana deslizante.\n",
    "\n",
    "\n",
    "- **im**: array de la imagen a estudiar.\n",
    "- **winSize**: tamaño de la ventana ~> [alto,ancho].\n",
    "- **clfHog**: clasificador SVM entrenado.\n",
    "- **ratio**: factor de escalado de la piramide Gaussiana"
   ]
  },
  {
   "cell_type": "code",
   "execution_count": 21,
   "metadata": {},
   "outputs": [],
   "source": [
    "def estudiaFoto(im,winSize,clfHog,ratio = 2):#Ratio de reducción\n",
    "    # List to store the detections\n",
    "    hdetections = []\n",
    "    detectJump = 0;\n",
    "    \n",
    "    for scaLev,imScaled in enumerate(pyramid_gaussian(im,downscale=ratio,multichannel=False)):\n",
    "        if (imScaled.shape[0] >= winSize[0] and imScaled.shape[1] >= winSize[1]):\n",
    "            for (x,y,imVentana) in slidWindow(imScaled,winSize):\n",
    "                if (detectJump <= 0):\n",
    "                    fdHog = hog(imVentana,orientations,pixels_per_cell,cells_per_block,block_norm,visualize,visualise,transform_sqrt,feature_vector);\n",
    "                    predHog = clfHog.predict(fdHog.reshape(1,-1))\n",
    "                    acc = clfHog.decision_function(fdHog.reshape(1,-1))[0]\n",
    "                    \n",
    "                    if (predHog == 1):\n",
    "                        hdetections.append((int(x*(ratio**scaLev)),int(y*(ratio**scaLev)),int(winSize[1]*(ratio**scaLev)),int(winSize[0]*(ratio**scaLev)),acc ))\n",
    "                detectJump -= 1;\n",
    "    return hdetections"
   ]
  },
  {
   "cell_type": "markdown",
   "metadata": {},
   "source": [
    "# Supresión de No Maximos"
   ]
  },
  {
   "cell_type": "markdown",
   "metadata": {},
   "source": [
    "### Funcion de Solapamiento\n",
    "##### overlappingArea:\n",
    "- Calcula el area que comparten las dos secciones (rectangulos) de entrada\n",
    "\n",
    "\n",
    "- **detection_x**: tupla de las coordenadas de la ventana, es la salida de la funcion **estudiaFoto**."
   ]
  },
  {
   "cell_type": "code",
   "execution_count": 22,
   "metadata": {},
   "outputs": [],
   "source": [
    "def overlappingArea(detection_1, detection_2):\n",
    "    ## Calculo de las coordenadas X Y de la detecciones\n",
    "    x1_tl,y1_tl,w1,h1,_ = detection_1\n",
    "    \n",
    "    x1_br = x1_tl + h1\n",
    "    y1_br = y1_tl + w1\n",
    "    \n",
    "    x2_tl,y2_tl,w2,h2,_ = detection_2\n",
    "    \n",
    "    x2_br = x2_tl + h2\n",
    "    y2_br = y2_tl + w2\n",
    "    \n",
    "    \n",
    "    ## Calculate the overlapping Area\n",
    "    x_overlap = max(0, min(x1_br, x2_br) - max(x1_tl, x2_tl) )\n",
    "    y_overlap = max(0, min(y1_br, y2_br) - max(y1_tl, y2_tl) )\n",
    "    \n",
    "    overlap_area = x_overlap * y_overlap\n",
    "    area_1 = w1 * h1\n",
    "    area_2 = w2 * h2\n",
    "    total_area = area_1 + area_2 - overlap_area\n",
    "    \n",
    "    return overlap_area / float(total_area)"
   ]
  },
  {
   "cell_type": "markdown",
   "metadata": {},
   "source": [
    "  ##### SNoM:\n",
    "  - Elimina las predicciones que se solapan dejando solo una de ellas y las que tienen menor precision que accMin\n",
    "  \n",
    "  \n",
    "  - **detections**: lista con las coordenadas de las ventanas, es la salida de la funcion **estudiaFoto**."
   ]
  },
  {
   "cell_type": "code",
   "execution_count": 23,
   "metadata": {},
   "outputs": [],
   "source": [
    "def SNoM(detections, umbral  = 0,accMin = 0.1):\n",
    "    esVacio = not detections\n",
    "    if (esVacio == True):\n",
    "        return []\n",
    "    \n",
    "    GoodDetec = []\n",
    "    \n",
    "    ## Ordenamos las deteciones por el coefiente de precision\n",
    "    detections = sorted(detections, key=lambda detections: detections[4],reverse=True)\n",
    "    \n",
    "    GoodDetec.append(detections[0])\n",
    "    del detections[0]\n",
    "    \n",
    "    esVacio = not detections\n",
    "    while esVacio == False:\n",
    "        if (detections[0][4] >= accMin):\n",
    "            for gDetec in GoodDetec:\n",
    "                if overlappingArea(detections[0], gDetec) > umbral:\n",
    "                    break\n",
    "            else:\n",
    "                GoodDetec.append(detections[0])\n",
    "        del detections[0]\n",
    "            \n",
    "        esVacio = not detections\n",
    "\n",
    "    return GoodDetec"
   ]
  },
  {
   "cell_type": "markdown",
   "metadata": {},
   "source": [
    "# Prueba del Modelo\n",
    "\n",
    "- **En el diccionario fotosTest los 50 primeros elemtos son postivos y los 10 ultimos negativos.**"
   ]
  },
  {
   "cell_type": "markdown",
   "metadata": {},
   "source": [
    "  ##### showImg:\n",
    "  - muestra  la imagne que se le pasa com argumento, se ha realizado para ahorrar codigo."
   ]
  },
  {
   "cell_type": "code",
   "execution_count": 24,
   "metadata": {},
   "outputs": [],
   "source": [
    "def showImg(im,text = 'xd'):\n",
    "    plt.figure(figsize=(7,7))\n",
    "    plt.title(text)\n",
    "    plt.imshow(im, cmap = 'gray' )"
   ]
  },
  {
   "cell_type": "markdown",
   "metadata": {},
   "source": [
    "  ##### muestraResultado:\n",
    "  \n",
    "  - Crea los rectangulos que se han detectado con clase positiva\n",
    "  \n",
    "  \n",
    "  - **detections**: lista con las coordenadas de las ventanas detectadas.\n",
    "  - **im0**: imagen que se ha estudiado.\n",
    "  - **text**: texto complementario."
   ]
  },
  {
   "cell_type": "code",
   "execution_count": 25,
   "metadata": {},
   "outputs": [],
   "source": [
    "def muestraResultado(detections,im0, text = \"Pedestrains Detected\"):\n",
    "    esVacio = not detections\n",
    "    if (esVacio == False):\n",
    "        color = (255)\n",
    "        im = im0.copy()\n",
    "        if len(detections) > 1:\n",
    "            print('Se han detectado',len(detections),'personas en la imagen')\n",
    "        else:\n",
    "            print('Se ha detectad',len(detections),'persona en la imagen')\n",
    "            text = \"Pedestrain Detected\"\n",
    "            \n",
    "        for (x, y,w, h,_) in detections:\n",
    "                cv2.rectangle(im, (y, x), (y+w, x+h), color, thickness=2)\n",
    "        showImg(im,text)\n",
    "    else:\n",
    "        showImg(im0,'Don\\'t have Pedestrains')"
   ]
  },
  {
   "cell_type": "code",
   "execution_count": 26,
   "metadata": {},
   "outputs": [
    {
     "name": "stdout",
     "output_type": "stream",
     "text": [
      "Wall time: 14.1 s\n"
     ]
    }
   ],
   "source": [
    "%%time\n",
    "\n",
    "### El siguiente argumento es el número de la foto que vamos a esutudaiar del diccionario fotosTest\n",
    "### en el diccionario los 50 primeros elementos contienen personas y los 10 ultimos no\n",
    "### \n",
    "numroDelaFoto = 0\n",
    "\n",
    "humanDetec = estudiaFoto(fotosTest[numroDelaFoto],winSize,clfHog,ratio=2)"
   ]
  },
  {
   "cell_type": "markdown",
   "metadata": {},
   "source": [
    "### Antes de la supresión de no maximos"
   ]
  },
  {
   "cell_type": "code",
   "execution_count": 27,
   "metadata": {},
   "outputs": [
    {
     "name": "stdout",
     "output_type": "stream",
     "text": [
      "Se han detectado 34 personas en la imagen\n"
     ]
    },
    {
     "data": {
      "image/png": "[encoded data removed]",
      "text/plain": [
       "<Figure size 504x504 with 1 Axes>"
      ]
     },
     "metadata": {
      "needs_background": "light"
     },
     "output_type": "display_data"
    }
   ],
   "source": [
    "muestraResultado(humanDetec,fotosTest[numroDelaFoto])"
   ]
  },
  {
   "cell_type": "markdown",
   "metadata": {},
   "source": [
    "### Despues de la supresión de no maximos"
   ]
  },
  {
   "cell_type": "code",
   "execution_count": 28,
   "metadata": {},
   "outputs": [
    {
     "name": "stdout",
     "output_type": "stream",
     "text": [
      "Se han detectado 4 personas en la imagen\n"
     ]
    },
    {
     "data": {
      "image/png": "[encoded data removed]",
      "text/plain": [
       "<Figure size 504x504 with 1 Axes>"
      ]
     },
     "metadata": {
      "needs_background": "light"
     },
     "output_type": "display_data"
    }
   ],
   "source": [
    "muestraResultado(SNoM(humanDetec,accMin = 0.3),fotosTest[numroDelaFoto])"
   ]
  },
  {
   "cell_type": "markdown",
   "metadata": {},
   "source": [
    "  "
   ]
  },
  {
   "cell_type": "markdown",
   "metadata": {},
   "source": [
    "  "
   ]
  },
  {
   "cell_type": "markdown",
   "metadata": {},
   "source": [
    "  "
   ]
  },
  {
   "cell_type": "markdown",
   "metadata": {},
   "source": [
    "  "
   ]
  },
  {
   "cell_type": "markdown",
   "metadata": {},
   "source": [
    "  "
   ]
  },
  {
   "cell_type": "markdown",
   "metadata": {},
   "source": [
    "  "
   ]
  },
  {
   "cell_type": "markdown",
   "metadata": {},
   "source": [
    "  "
   ]
  },
  {
   "cell_type": "markdown",
   "metadata": {},
   "source": [
    "  "
   ]
  },
  {
   "cell_type": "markdown",
   "metadata": {},
   "source": [
    "  "
   ]
  },
  {
   "cell_type": "markdown",
   "metadata": {},
   "source": [
    "  "
   ]
  }
 ],
 "metadata": {
  "kernelspec": {
   "display_name": "Python [conda env:py37vision] *",
   "language": "python",
   "name": "conda-env-py37vision-py"
  },
  "language_info": {
   "codemirror_mode": {
    "name": "ipython",
    "version": 3
   },
   "file_extension": ".py",
   "mimetype": "text/x-python",
   "name": "python",
   "nbconvert_exporter": "python",
   "pygments_lexer": "ipython3",
   "version": "3.7.4"
  }
 },
 "nbformat": 4,
 "nbformat_minor": 2
}
