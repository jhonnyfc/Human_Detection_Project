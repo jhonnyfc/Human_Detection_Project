{
 "cells": [
  {
   "cell_type": "markdown",
   "metadata": {},
   "source": [
    "# Human Detection Project"
   ]
  },
  {
   "cell_type": "code",
   "execution_count": 1,
   "metadata": {},
   "outputs": [],
   "source": [
    "import numpy as np\n",
    "import cv2\n",
    "import os\n",
    "import random\n",
    "from skimage.feature import hog\n",
    "from skimage import exposure\n",
    "from sklearn import svm\n",
    "from sklearn.decomposition import PCA\n",
    "from skimage.transform import pyramid_gaussian"
   ]
  },
  {
   "cell_type": "markdown",
   "metadata": {},
   "source": [
    "# Lectura de imágenes"
   ]
  },
  {
   "cell_type": "code",
   "execution_count": 2,
   "metadata": {},
   "outputs": [],
   "source": [
    "def leerFotos(path):\n",
    "    os.chdir(path)\n",
    "    listaPos = os.listdir()\n",
    "    fotosDic = {}\n",
    "    for i in range(len(listaPos)):\n",
    "        fotosDic[i] = cv2.imread(listaPos[i],0)\n",
    "    return fotosDic"
   ]
  },
  {
   "cell_type": "markdown",
   "metadata": {},
   "source": [
    "### Fotos Tain "
   ]
  },
  {
   "cell_type": "code",
   "execution_count": 3,
   "metadata": {},
   "outputs": [],
   "source": [
    "path = 'C:\\\\Users\\\\Jhonny Chicaiza\\\\Desktop\\\\Human_Detection_Project-master\\\\train_pos'\n",
    "fotosPosTrain = leerFotos(path)\n",
    "\n",
    "path = 'C:\\\\Users\\\\Jhonny Chicaiza\\\\Desktop\\\\Human_Detection_Project-master\\\\train_neg'\n",
    "fotosNegTrainSinTratar = leerFotos(path)"
   ]
  },
  {
   "cell_type": "markdown",
   "metadata": {},
   "source": [
    "### Fotos Test"
   ]
  },
  {
   "cell_type": "code",
   "execution_count": 4,
   "metadata": {},
   "outputs": [],
   "source": [
    "path = 'C:\\\\Users\\Jhonny Chicaiza\\\\Desktop\\\\Human_Detection_Project-master\\\\Test\\\\pos'\n",
    "fotosTest = leerFotos(path)"
   ]
  },
  {
   "cell_type": "markdown",
   "metadata": {},
   "source": [
    "### Recorte Train Neg"
   ]
  },
  {
   "cell_type": "code",
   "execution_count": 5,
   "metadata": {},
   "outputs": [],
   "source": [
    "def generaImagenesRecortadas(dataPos,dataNeg):    \n",
    "    numeroCortesxPh = 20      # Numero de recortadas aleatorias por foto\n",
    "    rowsFotoPersona = dataPos[0].shape[0]\n",
    "    colsFotoPersona = dataPos[0].shape[1]\n",
    "    \n",
    "    fotosNegTrain = {}\n",
    "    for i in range(len(dataNeg)):      \n",
    "        rowsFotoEntorno = dataNeg[i].shape[0]\n",
    "        colsFotoEntorno = dataNeg[i].shape[1]\n",
    "        dimCol = colsFotoEntorno - colsFotoPersona\n",
    "        dimRow = rowsFotoEntorno - rowsFotoPersona\n",
    "        \n",
    "        for j in range(numeroCortesxPh):    \n",
    "            randRow = random.randint(0,dimRow-1)\n",
    "            randCol = random.randint(0,dimCol-1)\n",
    "            randomImage = dataNeg[i][randRow:randRow + rowsFotoPersona ,randCol: randCol + colsFotoPersona]\n",
    "            fotosNegTrain[j+numeroCortesxPh*i] = randomImage\n",
    "            \n",
    "    return fotosNegTrain"
   ]
  },
  {
   "cell_type": "code",
   "execution_count": 6,
   "metadata": {},
   "outputs": [],
   "source": [
    "fotosNegTrain = generaImagenesRecortadas(fotosPosTrain,fotosNegTrainSinTratar)"
   ]
  },
  {
   "cell_type": "markdown",
   "metadata": {},
   "source": [
    "# Extracción de Caracterísitcas\n",
    "    L1\n",
    "       Normalization using L1-norm.\n",
    "    L1-sqrt\n",
    "       Normalization using L1-norm, followed by square root.\n",
    "    L2\n",
    "       Normalization using L2-norm.\n",
    "    L2-Hys\n",
    "       Normalization using L2-norm, followed by limiting the\n",
    "       maximum values to 0.2 (`Hys` stands for `hysteresis`) and\n",
    "       renormalization using L2-norm. (default)"
   ]
  },
  {
   "cell_type": "code",
   "execution_count": 7,
   "metadata": {},
   "outputs": [],
   "source": [
    "orientations    = 9\n",
    "pixels_per_cell = (8, 8)\n",
    "cells_per_block = (2, 2)\n",
    "block_norm      = 'L2' \n",
    "visualize       = False\n",
    "visualise       = None\n",
    "transform_sqrt  = True\n",
    "feature_vector  = True"
   ]
  },
  {
   "cell_type": "code",
   "execution_count": 8,
   "metadata": {},
   "outputs": [],
   "source": [
    "def vectolizarHOG(imagenes,esPositivo):\n",
    "    ### Esata funcion aplica HOG a todas las imagenes del diccionario\n",
    "    \n",
    "    #tamaño del vector\n",
    "    tamVector = len(hog(imagenes[0],orientations,pixels_per_cell,cells_per_block,block_norm,visualize,visualise,transform_sqrt,feature_vector))\n",
    "\n",
    "    #inicializamos la matriz que guarda los imagenes vectolizados\n",
    "    fdImagenes = np.zeros((len(imagenes),tamVector))\n",
    "    \n",
    "    for i in range(len(imagenes)):\n",
    "        fdImagenes[i,:] = hog(imagenes[i],orientations,pixels_per_cell,cells_per_block,block_norm,visualize,visualise,transform_sqrt,feature_vector)\n",
    "    \n",
    "    #asignamos el vector de clases(y) \n",
    "    if esPositivo:\n",
    "        y = np.ones((len(imagenes),1))\n",
    "    else:\n",
    "        y = np.zeros((len(imagenes),1))\n",
    "\n",
    "    return fdImagenes,y"
   ]
  },
  {
   "cell_type": "code",
   "execution_count": 9,
   "metadata": {},
   "outputs": [],
   "source": [
    "fdPosTrain,yPos = vectolizarHOG(fotosPosTrain,1)"
   ]
  },
  {
   "cell_type": "code",
   "execution_count": 10,
   "metadata": {},
   "outputs": [],
   "source": [
    "fdNegTrain,yNeg = vectolizarHOG(fotosNegTrain,0)"
   ]
  },
  {
   "cell_type": "code",
   "execution_count": 11,
   "metadata": {},
   "outputs": [
    {
     "name": "stdout",
     "output_type": "stream",
     "text": [
      "(4563, 3780)\n"
     ]
    }
   ],
   "source": [
    "fotosTrain = np.vstack((fdPosTrain,fdNegTrain))\n",
    "y = np.vstack((yPos,yNeg))\n",
    "\n",
    "print(fotosTrain.shape)"
   ]
  },
  {
   "cell_type": "markdown",
   "metadata": {},
   "source": [
    "# Entrenamiento del modelo"
   ]
  },
  {
   "cell_type": "code",
   "execution_count": 12,
   "metadata": {},
   "outputs": [
    {
     "data": {
      "text/plain": [
       "LinearSVC(C=0.007, class_weight=None, dual=True, fit_intercept=True,\n",
       "          intercept_scaling=1, loss='squared_hinge', max_iter=1000,\n",
       "          multi_class='ovr', penalty='l2', random_state=None, tol=0.0001,\n",
       "          verbose=0)"
      ]
     },
     "execution_count": 12,
     "metadata": {},
     "output_type": "execute_result"
    }
   ],
   "source": [
    "clf = svm.LinearSVC(C = 0.007)\n",
    "clf.fit(fotosTrain,y.ravel())"
   ]
  },
  {
   "cell_type": "code",
   "execution_count": 13,
   "metadata": {},
   "outputs": [
    {
     "data": {
      "text/plain": [
       "0.9733570159857904"
      ]
     },
     "execution_count": 13,
     "metadata": {},
     "output_type": "execute_result"
    }
   ],
   "source": [
    "clf.score(fdPosTrain,yPos)"
   ]
  },
  {
   "cell_type": "markdown",
   "metadata": {},
   "source": [
    "# Slide Window"
   ]
  },
  {
   "cell_type": "code",
   "execution_count": 14,
   "metadata": {},
   "outputs": [],
   "source": [
    "winSize = 134,70"
   ]
  },
  {
   "cell_type": "code",
   "execution_count": 88,
   "metadata": {},
   "outputs": [],
   "source": [
    "def slidWindow(imagen,maskHeight = 134,maskWidth = 70,step = 10):\n",
    "    arrayImagen = []\n",
    "    \n",
    "    for i in range(0,imagen.shape[0]-maskHeight,step):        \n",
    "        for j in range(0,imagen.shape[1]-maskWidth,step):\n",
    "            arrayImagen.append((i,j,imagen[i:i+maskHeight, j:j+maskWidth]))\n",
    "    \n",
    "    return arrayImagen"
   ]
  },
  {
   "cell_type": "markdown",
   "metadata": {},
   "source": [
    "# Pyramid Gaussian"
   ]
  },
  {
   "cell_type": "code",
   "execution_count": 100,
   "metadata": {},
   "outputs": [],
   "source": [
    "def estudiaFoto(im,winSize,clf,ratio = 2):#Ratio de reducción\n",
    "    # List to store the detections\n",
    "    hdetections = []\n",
    "    for scaLev,imScaled in enumerate(pyramid_gaussian(im,downscale=ratio,multichannel=False)):\n",
    "        if (imScaled.shape[0] >= winSize[0] and imScaled.shape[1] >= winSize[1]):\n",
    "            for (x,y,imVentana) in slidWindow(imScaled):\n",
    "                fdSc = hog(imVentana,orientations,pixels_per_cell,cells_per_block,block_norm,visualize,visualise,transform_sqrt,feature_vector);\n",
    "                pred = clf.predict(fdSc.reshape(1,-1))\n",
    "                if (pred == 1):\n",
    "                    cv2.imshow(\"Raw Detections before NMS\", imVentana)\n",
    "                    cv2.waitKey(0)\n",
    "                    cv2.destroyAllWindows()\n",
    "                    hdetections.append((x,y,int(winSize[1]*(ratio**scaLev)),int(winSize[0]*(ratio**scaLev)) ))\n",
    "                    \n",
    "    return hdetections"
   ]
  },
  {
   "cell_type": "markdown",
   "metadata": {},
   "source": [
    "# Prueba del Modelo"
   ]
  },
  {
   "cell_type": "code",
   "execution_count": 96,
   "metadata": {},
   "outputs": [],
   "source": [
    "def muestraResultado(detections,im):\n",
    "    color = (255)\n",
    "    for (x, y,w, h) in detections:\n",
    "            # Draw the detections\n",
    "            cv2.rectangle(im, (y, x), (y+w, x+h), color, thickness=1)\n",
    "    cv2.imshow(\"Raw Detections before NMS\", im)\n",
    "    cv2.waitKey(0)\n",
    "    cv2.destroyAllWindows()"
   ]
  },
  {
   "cell_type": "code",
   "execution_count": 101,
   "metadata": {},
   "outputs": [
    {
     "name": "stdout",
     "output_type": "stream",
     "text": [
      "Wall time: 38.1 s\n"
     ]
    }
   ],
   "source": [
    "%%time\n",
    "humanDetec = estudiaFoto(fotosTest[6],winSize,clf,ratio=100)"
   ]
  },
  {
   "cell_type": "code",
   "execution_count": 102,
   "metadata": {},
   "outputs": [
    {
     "data": {
      "text/plain": [
       "48"
      ]
     },
     "execution_count": 102,
     "metadata": {},
     "output_type": "execute_result"
    }
   ],
   "source": [
    "len(humanDetec)"
   ]
  },
  {
   "cell_type": "code",
   "execution_count": 98,
   "metadata": {},
   "outputs": [],
   "source": [
    "muestraResultado(humanDetec,fotosTest[6].copy())"
   ]
  },
  {
   "cell_type": "markdown",
   "metadata": {},
   "source": [
    "#### Prueba solo Una imagen"
   ]
  },
  {
   "cell_type": "code",
   "execution_count": 103,
   "metadata": {},
   "outputs": [
    {
     "name": "stdout",
     "output_type": "stream",
     "text": [
      "Wall time: 8.13 s\n"
     ]
    }
   ],
   "source": [
    "%%time\n",
    "listOk = []\n",
    "partImagen = slidWindow(fotosTest[6])\n",
    "for i in range(len(partImagen)):\n",
    "    pruebaHog = hog(partImagen[i][2],orientations,pixels_per_cell,cells_per_block,block_norm,visualize,visualise,transform_sqrt,feature_vector);\n",
    "    if (1 == clf.predict(pruebaHog.reshape(1,-1))):\n",
    "        listOk.append(i);"
   ]
  },
  {
   "cell_type": "code",
   "execution_count": 104,
   "metadata": {},
   "outputs": [
    {
     "name": "stdout",
     "output_type": "stream",
     "text": [
      "2730\n",
      "47\n",
      "[503, 766, 836, 856, 925, 926, 1020, 1104, 1152, 1160, 1220, 1221, 1281, 1349, 1351, 1557, 1558, 1571, 1581, 1585, 1620, 1627, 1628, 1629, 1630, 1631, 1632, 1651, 1670, 1701, 1721, 1769, 1771, 1808, 1841, 1856, 1908, 1938, 1939, 1944, 1978, 2081, 2151, 2197, 2221, 2291, 2293]\n"
     ]
    }
   ],
   "source": [
    "print(len(partImagen))\n",
    "print(len(listOk))\n",
    "print(listOk)"
   ]
  },
  {
   "cell_type": "code",
   "execution_count": null,
   "metadata": {},
   "outputs": [],
   "source": [
    "cv2.imshow('img ', fotosTest[6])\n",
    "cv2.imshow('trozo test ', partImagen[503][2])\n",
    "cv2.waitKey(0)\n",
    "cv2.destroyAllWindows()"
   ]
  },
  {
   "cell_type": "code",
   "execution_count": 229,
   "metadata": {},
   "outputs": [
    {
     "data": {
      "text/plain": [
       "array([0.20889192])"
      ]
     },
     "execution_count": 229,
     "metadata": {},
     "output_type": "execute_result"
    }
   ],
   "source": [
    " pruebaHog = hog(partImagen[2291][2],orientations,pixels_per_cell,cells_per_block,block_norm,visualize,visualise,transform_sqrt,feature_vector,multichannel);\n",
    "clf.decision_function(pruebaHog.reshape(1,-1))"
   ]
  }
 ],
 "metadata": {
  "kernelspec": {
   "display_name": "Python [conda env:py37vision] *",
   "language": "python",
   "name": "conda-env-py37vision-py"
  },
  "language_info": {
   "codemirror_mode": {
    "name": "ipython",
    "version": 3
   },
   "file_extension": ".py",
   "mimetype": "text/x-python",
   "name": "python",
   "nbconvert_exporter": "python",
   "pygments_lexer": "ipython3",
   "version": "3.7.4"
  }
 },
 "nbformat": 4,
 "nbformat_minor": 2
}
