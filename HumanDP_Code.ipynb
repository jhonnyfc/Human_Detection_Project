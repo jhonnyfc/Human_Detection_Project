{
 "cells": [
  {
   "cell_type": "markdown",
   "metadata": {},
   "source": [
    "# Human Detection Project"
   ]
  },
  {
   "cell_type": "code",
   "execution_count": 1,
   "metadata": {},
   "outputs": [],
   "source": [
    "import numpy as np\n",
    "import cv2\n",
    "import os\n",
    "import random\n",
    "from skimage.feature import hog\n",
    "from skimage import exposure\n",
    "from sklearn import svm\n",
    "from sklearn.decomposition import PCA\n",
    "from skimage.transform import pyramid_gaussian\n",
    "import matplotlib.pyplot as plt"
   ]
  },
  {
   "cell_type": "markdown",
   "metadata": {},
   "source": [
    "# Lectura de imágenes"
   ]
  },
  {
   "cell_type": "code",
   "execution_count": 2,
   "metadata": {},
   "outputs": [],
   "source": [
    "def leerFotos(path,ini = 0):\n",
    "    os.chdir(path)\n",
    "    listaPos = os.listdir()\n",
    "    fotosDic = {}\n",
    "    \n",
    "    for i in range(ini,len(listaPos)+ini):\n",
    "        fotosDic[i] = cv2.imread(listaPos[i-ini],0)\n",
    "    return fotosDic"
   ]
  },
  {
   "cell_type": "markdown",
   "metadata": {},
   "source": [
    "### Fotos Tain "
   ]
  },
  {
   "cell_type": "code",
   "execution_count": 3,
   "metadata": {},
   "outputs": [],
   "source": [
    "def duplicaTrain(fotos):\n",
    "    indx = len(fotos)\n",
    "    for i in range(len(fotos)):\n",
    "        fotos[indx+i] = cv2.flip(fotos[i], 1)\n",
    "        \n",
    "    return fotos"
   ]
  },
  {
   "cell_type": "code",
   "execution_count": 4,
   "metadata": {},
   "outputs": [],
   "source": [
    "path = 'C:\\\\Users\\\\Jhonny Chicaiza\\\\Desktop\\\\Human_Detection_Project-master\\\\train_pos'\n",
    "fotosPosTrain0 = leerFotos(path)\n",
    "fotosPosTrain0 = duplicaTrain(fotosPosTrain0)\n",
    "\n",
    "path = 'C:\\\\Users\\\\Jhonny Chicaiza\\\\Desktop\\\\Human_Detection_Project-master\\\\train_neg'\n",
    "fotosNegTrainSinTratar = leerFotos(path)"
   ]
  },
  {
   "cell_type": "markdown",
   "metadata": {},
   "source": [
    "### Fotos Test"
   ]
  },
  {
   "cell_type": "code",
   "execution_count": 5,
   "metadata": {},
   "outputs": [],
   "source": [
    "path = 'C:\\\\Users\\Jhonny Chicaiza\\\\Desktop\\\\Human_Detection_Project-master\\\\Test\\\\pos'\n",
    "fotosTest0 = leerFotos(path)\n",
    "path = 'C:\\\\Users\\Jhonny Chicaiza\\\\Desktop\\\\Human_Detection_Project-master\\\\Test\\\\neg'\n",
    "\n",
    "fotosTest0.update(leerFotos(path,len(fotosTest0)))"
   ]
  },
  {
   "cell_type": "markdown",
   "metadata": {},
   "source": [
    "### Recorte Train Neg"
   ]
  },
  {
   "cell_type": "code",
   "execution_count": 6,
   "metadata": {},
   "outputs": [],
   "source": [
    "def generaImagenesRecortadas(dataNeg,winSize,numeroCortesxPh = 20):\n",
    "    rowsFotoPersona = winSize[0]\n",
    "    colsFotoPersona = winSize[1]\n",
    "    \n",
    "    fotosNegTrain = {}\n",
    "    for i in range(len(dataNeg)):      \n",
    "        rowsFotoEntorno = dataNeg[i].shape[0]\n",
    "        colsFotoEntorno = dataNeg[i].shape[1]\n",
    "        dimCol = colsFotoEntorno - colsFotoPersona\n",
    "        dimRow = rowsFotoEntorno - rowsFotoPersona\n",
    "        \n",
    "        for j in range(numeroCortesxPh):    \n",
    "            randRow = random.randint(0,dimRow-1)\n",
    "            randCol = random.randint(0,dimCol-1)\n",
    "            randomImage = dataNeg[i][randRow:randRow + rowsFotoPersona ,randCol: randCol + colsFotoPersona]\n",
    "            fotosNegTrain[j+numeroCortesxPh*i] = randomImage\n",
    "            \n",
    "    return fotosNegTrain"
   ]
  },
  {
   "cell_type": "markdown",
   "metadata": {},
   "source": [
    "# Tratamiento de la imagenes Train"
   ]
  },
  {
   "cell_type": "markdown",
   "metadata": {},
   "source": [
    "### Ampliazcion Rango Dinámico && Transformacion de Intensidad && Suavizado\n",
    "\n",
    "Se ha decidido cambiar la dimension de las imagenes de train de 134x70 a 128x64 para recuperar más características"
   ]
  },
  {
   "cell_type": "code",
   "execution_count": 7,
   "metadata": {},
   "outputs": [],
   "source": [
    "winSize = 128,64"
   ]
  },
  {
   "cell_type": "code",
   "execution_count": 8,
   "metadata": {},
   "outputs": [],
   "source": [
    "def recortaTrainPos(fotosPos,winSize):\n",
    "    x,y = fotosPos[0].shape\n",
    "    \n",
    "    for i in range(len(fotosPos)):\n",
    "        incX = (x - winSize[0])//2\n",
    "        incY = (y - winSize[1])//2    \n",
    "        fotosPos[i] = fotosPos[i][incX:x-incX,incY:y-incY]\n",
    "        \n",
    "    return fotosPos"
   ]
  },
  {
   "cell_type": "code",
   "execution_count": 9,
   "metadata": {},
   "outputs": [],
   "source": [
    "def ampRangoSet(fotos):\n",
    "    fotSal = {}\n",
    "    gamma = 0.35\n",
    "    \n",
    "    for i in range(len(fotos)):\n",
    "        r1 = np.min(fotos[i])\n",
    "        r2 = np.max(fotos[i])\n",
    "        fotSal[i] = np.float32(fotos[i])\n",
    "        fotSal[i] = 255*(fotSal[i]-r1)/(r2-r1)\n",
    "        fotSal[i] = np.array(255*(fotSal[i] / 255) ** gamma, dtype = 'uint8')\n",
    "        \n",
    "    return fotSal"
   ]
  },
  {
   "cell_type": "code",
   "execution_count": 10,
   "metadata": {},
   "outputs": [],
   "source": [
    "def trataFotos(fotos,kernelSize = 3):\n",
    "    fotSal = {}\n",
    "    ## Ampliación del rango\n",
    "    fotSal = ampRangoSet(fotos)\n",
    "\n",
    "    ## Suavizado\n",
    "    n = kernelSize #tamaño del filtro\n",
    "    sigma = 3 #desviación de la gaussiana\n",
    "    mask = cv2.getGaussianKernel(n, sigma)*cv2.getGaussianKernel(n, sigma).T\n",
    "    \n",
    "    for i in range(len(fotSal)):\n",
    "        fotSal[i] = cv2.filter2D(fotSal[i],-1,mask)\n",
    "        \n",
    "    return fotSal"
   ]
  },
  {
   "cell_type": "code",
   "execution_count": 11,
   "metadata": {},
   "outputs": [],
   "source": [
    "## Tamaño del filtro de suavizado\n",
    "dimFiltro = 5\n",
    "\n",
    "fotosPosTrain0 = recortaTrainPos(fotosPosTrain0,winSize)\n",
    "fotosPosTrain = trataFotos(fotosPosTrain0,dimFiltro)\n",
    "fotosNegTrainTratadas = trataFotos(fotosNegTrainSinTratar,dimFiltro)\n",
    "fotosNegTrain = generaImagenesRecortadas(fotosNegTrainTratadas,winSize)\n",
    "\n",
    "fotosTest = trataFotos(fotosTest0,dimFiltro)"
   ]
  },
  {
   "cell_type": "markdown",
   "metadata": {},
   "source": [
    "# Extracción de Caracterísitcas"
   ]
  },
  {
   "cell_type": "markdown",
   "metadata": {},
   "source": [
    "## Hog\n",
    "    L1\n",
    "       Normalization using L1-norm.\n",
    "    L1-sqrt\n",
    "       Normalization using L1-norm, followed by square root.\n",
    "    L2\n",
    "       Normalization using L2-norm.\n",
    "    L2-Hys\n",
    "       Normalization using L2-norm, followed by limiting the\n",
    "       maximum values to 0.2 (`Hys` stands for `hysteresis`) and\n",
    "       renormalization using L2-norm. (default)"
   ]
  },
  {
   "cell_type": "code",
   "execution_count": 12,
   "metadata": {},
   "outputs": [],
   "source": [
    "orientations    = 9\n",
    "pixels_per_cell = (8, 8)\n",
    "cells_per_block = (2, 2)\n",
    "block_norm      = 'L2' \n",
    "visualize       = False\n",
    "visualise       = None\n",
    "transform_sqrt  = True\n",
    "feature_vector  = True"
   ]
  },
  {
   "cell_type": "code",
   "execution_count": 13,
   "metadata": {},
   "outputs": [],
   "source": [
    "def featuresExtrac(imagenes,esPositivo):    \n",
    "    ## Tamaño del vector\n",
    "    auxDim = hog(imagenes[0],orientations,pixels_per_cell,cells_per_block,block_norm,visualize,visualise,transform_sqrt,feature_vector)\n",
    "    tamHog = len(auxDim)\n",
    "    \n",
    "    #inicializamos la matriz que guarda los imagenes vectolizados\n",
    "    fdImagenesHog = np.zeros((len(imagenes),tamHog))\n",
    "    \n",
    "    for i in range(len(imagenes)):\n",
    "        fdImagenesHog[i,:] = hog(imagenes[i],orientations,pixels_per_cell,cells_per_block,block_norm,visualize,visualise,transform_sqrt,feature_vector)\n",
    "        \n",
    "    #asignamos el vector de clases(y) \n",
    "    if esPositivo:\n",
    "        y = np.ones((len(imagenes),1))\n",
    "    else:\n",
    "        y = np.zeros((len(imagenes),1))\n",
    "\n",
    "    return fdImagenesHog,y"
   ]
  },
  {
   "cell_type": "code",
   "execution_count": 14,
   "metadata": {},
   "outputs": [],
   "source": [
    "fdPosTrainHog,yPos = featuresExtrac(fotosPosTrain,1)"
   ]
  },
  {
   "cell_type": "code",
   "execution_count": 15,
   "metadata": {},
   "outputs": [],
   "source": [
    "fdNegTrainHog,yNeg = featuresExtrac(fotosNegTrain,0)"
   ]
  },
  {
   "cell_type": "code",
   "execution_count": 16,
   "metadata": {},
   "outputs": [],
   "source": [
    "fdTrainHog = np.vstack((fdPosTrainHog,fdNegTrainHog))\n",
    "y = np.vstack((yPos,yNeg))\n"
   ]
  },
  {
   "cell_type": "markdown",
   "metadata": {},
   "source": [
    "# Entrenamiento del modelo"
   ]
  },
  {
   "cell_type": "markdown",
   "metadata": {},
   "source": [
    "## HOG Model"
   ]
  },
  {
   "cell_type": "code",
   "execution_count": 17,
   "metadata": {},
   "outputs": [
    {
     "data": {
      "text/plain": [
       "LinearSVC(C=0.01, class_weight=None, dual=True, fit_intercept=True,\n",
       "          intercept_scaling=1, loss='squared_hinge', max_iter=1000,\n",
       "          multi_class='ovr', penalty='l2', random_state=None, tol=0.0001,\n",
       "          verbose=0)"
      ]
     },
     "execution_count": 17,
     "metadata": {},
     "output_type": "execute_result"
    }
   ],
   "source": [
    "clfHog = svm.LinearSVC(C=0.01)\n",
    "clfHog.fit(fdTrainHog[:,:],y[:,:].ravel())"
   ]
  },
  {
   "cell_type": "code",
   "execution_count": 18,
   "metadata": {},
   "outputs": [
    {
     "data": {
      "text/plain": [
       "0.9893428063943162"
      ]
     },
     "execution_count": 18,
     "metadata": {},
     "output_type": "execute_result"
    }
   ],
   "source": [
    "clfHog.score(fdPosTrainHog,yPos)"
   ]
  },
  {
   "cell_type": "code",
   "execution_count": 19,
   "metadata": {},
   "outputs": [
    {
     "data": {
      "text/plain": [
       "1.0"
      ]
     },
     "execution_count": 19,
     "metadata": {},
     "output_type": "execute_result"
    }
   ],
   "source": [
    "clfHog.score(fdNegTrainHog,yNeg)"
   ]
  },
  {
   "cell_type": "markdown",
   "metadata": {},
   "source": [
    "# Slide Window"
   ]
  },
  {
   "cell_type": "code",
   "execution_count": 20,
   "metadata": {},
   "outputs": [],
   "source": [
    "def slidWindow(imagen, winSize,step = 10):\n",
    "    arrayImagen = []\n",
    "    \n",
    "    for i in range(0,imagen.shape[0]- winSize[0],step):        \n",
    "        for j in range(0,imagen.shape[1]- winSize[1],step):\n",
    "            arrayImagen.append((i,j,imagen[i:i+ winSize[0], j:j + winSize[1]]))\n",
    "    \n",
    "    return arrayImagen"
   ]
  },
  {
   "cell_type": "markdown",
   "metadata": {},
   "source": [
    "# Pyramid Gaussian"
   ]
  },
  {
   "cell_type": "code",
   "execution_count": 21,
   "metadata": {},
   "outputs": [],
   "source": [
    "def estudiaFoto(im,winSize,clfHog,ratio = 2,margen = 0):#Ratio de reducción\n",
    "    # List to store the detections\n",
    "    hdetections = []\n",
    "    detectJump = 0;\n",
    "    \n",
    "    for scaLev,imScaled in enumerate(pyramid_gaussian(im,downscale=ratio,multichannel=False)):\n",
    "        if (imScaled.shape[0] >= winSize[0] and imScaled.shape[1] >= winSize[1]):\n",
    "            for (x,y,imVentana) in slidWindow(imScaled,winSize):\n",
    "                if (detectJump <= 0):\n",
    "                    fdHog = hog(imVentana,orientations,pixels_per_cell,cells_per_block,block_norm,visualize,visualise,transform_sqrt,feature_vector);\n",
    "                    predHog = clfHog.predict(fdHog.reshape(1,-1))\n",
    "                    acc = clfHog.decision_function(fdHog.reshape(1,-1))[0]\n",
    "                    \n",
    "                    if (predHog == 1):\n",
    "                        hdetections.append((int(x*(ratio**scaLev)),int(y*(ratio**scaLev)),int(winSize[1]*(ratio**scaLev)),int(winSize[0]*(ratio**scaLev)),acc ))\n",
    "                detectJump -= 1;\n",
    "    return hdetections"
   ]
  },
  {
   "cell_type": "markdown",
   "metadata": {},
   "source": [
    "# Supresión No Maximos"
   ]
  },
  {
   "cell_type": "markdown",
   "metadata": {},
   "source": [
    "### Solapamiento"
   ]
  },
  {
   "cell_type": "code",
   "execution_count": 22,
   "metadata": {},
   "outputs": [],
   "source": [
    "def overlappingArea(detection_1, detection_2):\n",
    "    ## Calculo de las coordenadas X Y de la detecciones\n",
    "    x1_tl,y1_tl,w1,h1,_ = detection_1\n",
    "    \n",
    "    x1_br = x1_tl + h1\n",
    "    y1_br = y1_tl + w1\n",
    "    \n",
    "    x2_tl,y2_tl,w2,h2,_ = detection_2\n",
    "    \n",
    "    x2_br = x2_tl + h2\n",
    "    y2_br = y2_tl + w2\n",
    "    \n",
    "    \n",
    "    ## Calculate the overlapping Area\n",
    "    x_overlap = max(0, min(x1_br, x2_br) - max(x1_tl, x2_tl) )\n",
    "    y_overlap = max(0, min(y1_br, y2_br) - max(y1_tl, y2_tl) )\n",
    "    \n",
    "    overlap_area = x_overlap * y_overlap\n",
    "    area_1 = w1 * h1\n",
    "    area_2 = w2 * h2\n",
    "    total_area = area_1 + area_2 - overlap_area\n",
    "    \n",
    "    return overlap_area / float(total_area)"
   ]
  },
  {
   "cell_type": "code",
   "execution_count": 23,
   "metadata": {},
   "outputs": [],
   "source": [
    "def SNoM(detections, umbral  = 0):\n",
    "    esVacio = not detections\n",
    "    if (esVacio == True):\n",
    "        return []\n",
    "    \n",
    "    GoodDetec = []\n",
    "    \n",
    "    ## Ordenamos las deteciones por coefiente de precision\n",
    "    detections = sorted(detections, key=lambda detections: detections[4],reverse=True)\n",
    "    \n",
    "    GoodDetec.append(detections[0])\n",
    "    del detections[0]\n",
    "    \n",
    "    while esVacio == False:\n",
    "        for gDetec in GoodDetec:\n",
    "            if overlappingArea(detections[0], gDetec) > umbral:\n",
    "                del detections[0]\n",
    "                break\n",
    "        else:\n",
    "            GoodDetec.append(detections[0])\n",
    "            del detections[0]\n",
    "        esVacio = not detections\n",
    "\n",
    "    return GoodDetec"
   ]
  },
  {
   "cell_type": "markdown",
   "metadata": {},
   "source": [
    "# Prueba del Modelo\n",
    "\n",
    "En diccionario fotosTest los 50 primeros elemtos son postivos y los 10 ultimos negativos"
   ]
  },
  {
   "cell_type": "code",
   "execution_count": 24,
   "metadata": {},
   "outputs": [],
   "source": [
    "def showImg(im,text = 'xd'):\n",
    "    plt.figure(figsize=(7,7))\n",
    "    plt.title(text)\n",
    "    plt.imshow(im, cmap = 'gray' )"
   ]
  },
  {
   "cell_type": "code",
   "execution_count": 25,
   "metadata": {},
   "outputs": [],
   "source": [
    "def muestraResultado(detections,im0, text = \"Pedestrains Detected\"):\n",
    "    esVacio = not detections\n",
    "    if (esVacio == False):\n",
    "        color = (255)\n",
    "        im = im0.copy()\n",
    "        print('Se han detectado',len(detections),'personas en la imagen')\n",
    "        for (x, y,w, h,_) in detections:\n",
    "                # Draw the detections\n",
    "                cv2.rectangle(im, (y, x), (y+w, x+h), color, thickness=2)\n",
    "        showImg(im,text)\n",
    "    else:\n",
    "        showImg(im0,'Don\\'t have Pedestrains')"
   ]
  },
  {
   "cell_type": "code",
   "execution_count": 26,
   "metadata": {},
   "outputs": [
    {
     "name": "stdout",
     "output_type": "stream",
     "text": [
      "Wall time: 791 ms\n"
     ]
    }
   ],
   "source": [
    "%%time\n",
    "num = 55\n",
    "humanDetec = estudiaFoto(fotosTest[num],winSize,clfHog,ratio=2)"
   ]
  },
  {
   "cell_type": "markdown",
   "metadata": {},
   "source": [
    "### Antes de la supresion de no maximos"
   ]
  },
  {
   "cell_type": "code",
   "execution_count": 27,
   "metadata": {},
   "outputs": [
    {
     "data": {
      "image/png": "[encoded data removed]",
      "text/plain": [
       "<Figure size 504x504 with 1 Axes>"
      ]
     },
     "metadata": {
      "needs_background": "light"
     },
     "output_type": "display_data"
    }
   ],
   "source": [
    "muestraResultado(humanDetec,fotosTest[num])"
   ]
  },
  {
   "cell_type": "markdown",
   "metadata": {},
   "source": [
    "### Despues de la supresion de no maximos"
   ]
  },
  {
   "cell_type": "code",
   "execution_count": 28,
   "metadata": {},
   "outputs": [
    {
     "data": {
      "image/png": "[encoded data removed]",
      "text/plain": [
       "<Figure size 504x504 with 1 Axes>"
      ]
     },
     "metadata": {
      "needs_background": "light"
     },
     "output_type": "display_data"
    }
   ],
   "source": [
    "muestraResultado(SNoM(humanDetec,umbral = 0),fotosTest[num])"
   ]
  },
  {
   "cell_type": "markdown",
   "metadata": {},
   "source": [
    "  "
   ]
  },
  {
   "cell_type": "markdown",
   "metadata": {},
   "source": [
    "  "
   ]
  },
  {
   "cell_type": "markdown",
   "metadata": {},
   "source": [
    "  "
   ]
  },
  {
   "cell_type": "markdown",
   "metadata": {},
   "source": [
    "  "
   ]
  },
  {
   "cell_type": "markdown",
   "metadata": {},
   "source": [
    "  "
   ]
  },
  {
   "cell_type": "markdown",
   "metadata": {},
   "source": [
    "  "
   ]
  },
  {
   "cell_type": "markdown",
   "metadata": {},
   "source": [
    "  "
   ]
  }
 ],
 "metadata": {
  "kernelspec": {
   "display_name": "Python [conda env:py37vision] *",
   "language": "python",
   "name": "conda-env-py37vision-py"
  },
  "language_info": {
   "codemirror_mode": {
    "name": "ipython",
    "version": 3
   },
   "file_extension": ".py",
   "mimetype": "text/x-python",
   "name": "python",
   "nbconvert_exporter": "python",
   "pygments_lexer": "ipython3",
   "version": "3.7.4"
  }
 },
 "nbformat": 4,
 "nbformat_minor": 2
}
