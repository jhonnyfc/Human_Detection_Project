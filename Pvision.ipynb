{
 "cells": [
  {
   "cell_type": "markdown",
   "metadata": {},
   "source": [
    "# P. Visión"
   ]
  },
  {
   "cell_type": "code",
   "execution_count": 86,
   "metadata": {},
   "outputs": [],
   "source": [
    "import numpy as np\n",
    "import cv2\n",
    "import os\n",
    "from skimage.feature import hog\n",
    "from skimage import exposure"
   ]
  },
  {
   "cell_type": "code",
   "execution_count": 22,
   "metadata": {},
   "outputs": [],
   "source": [
    "os.chdir('C:\\\\Users\\\\alumno\\\\Desktop\\\\Train\\\\train_pos')\n",
    "listaPos = os.listdir()\n",
    "fotosPosTrain = {}\n",
    "for i in range(len(listaPos)):\n",
    "    fotosPosTrain[i] = cv2.imread(listaPos[i],0)"
   ]
  },
  {
   "cell_type": "code",
   "execution_count": 23,
   "metadata": {},
   "outputs": [],
   "source": [
    "os.chdir('C:\\\\Users\\\\alumno\\\\Desktop\\\\Train\\\\train_neg')\n",
    "listaNeg = os.listdir()\n",
    "fotosNegTrain = {}\n",
    "for i in range(len(listaNeg)):\n",
    "    fotosNegTrain[i] = cv2.imread(listaNeg[i],0)"
   ]
  },
  {
   "cell_type": "code",
   "execution_count": null,
   "metadata": {},
   "outputs": [],
   "source": []
  },
  {
   "cell_type": "code",
   "execution_count": null,
   "metadata": {},
   "outputs": [],
   "source": []
  },
  {
   "cell_type": "code",
   "execution_count": 67,
   "metadata": {},
   "outputs": [
    {
     "name": "stdout",
     "output_type": "stream",
     "text": [
      "67.0\n"
     ]
    }
   ],
   "source": [
    "nFilasFoto,nColsFoto = fotosPosTrain[0].shape\n",
    "print(nFilasFoto/2)"
   ]
  },
  {
   "cell_type": "code",
   "execution_count": 110,
   "metadata": {},
   "outputs": [
    {
     "name": "stdout",
     "output_type": "stream",
     "text": [
      "(563, 6804) (134, 70) 9380\n"
     ]
    }
   ],
   "source": [
    "fdPosTrain = np.zeros((len(fotosPosTrain),6804))\n",
    "for i in range(len(fotosPosTrain)):\n",
    "#fd,imHog = hog(fotosPosTrain[1], orientations=8, pixels_per_cell=(8, 8),cells_per_block=(3, 3),visualize=True)\n",
    "    fdPosTrain[i] = hog(fotosPosTrain[i])\n",
    "    #imHog_re = exposure.rescale_intensity(imHog, in_range = (0,10))\n",
    "print(fdPosTrain.shape,fotosPosTrain[1].shape,134*70)"
   ]
  },
  {
   "cell_type": "code",
   "execution_count": null,
   "metadata": {},
   "outputs": [],
   "source": [
    "fdNegTrain = np.zeros((len(fotosNegTrain),6804))\n",
    "for i in range(len(fotosPosTrain)):\n",
    "    fdNegTrain[i] = hog(fotosPosTrain[i])"
   ]
  },
  {
   "cell_type": "code",
   "execution_count": 101,
   "metadata": {},
   "outputs": [],
   "source": [
    "cv2.imshow(\"sadas\",imHog_re)\n",
    "cv2.imshow(\"dsada\",fotosPosTrain[1])\n",
    "cv2.imshow(\"ds2da\",fotosNegTrain[1])\n",
    "cv2.waitKey(0)\n",
    "cv2.destroyAllWindows()"
   ]
  },
  {
   "cell_type": "code",
   "execution_count": 85,
   "metadata": {},
   "outputs": [
    {
     "name": "stdout",
     "output_type": "stream",
     "text": [
      "[0.30046368 0.14791104 0.10443662 ... 0.12432016 0.09187911 0.03539276]\n"
     ]
    }
   ],
   "source": [
    "print()"
   ]
  },
  {
   "cell_type": "code",
   "execution_count": null,
   "metadata": {},
   "outputs": [],
   "source": []
  }
 ],
 "metadata": {
  "kernelspec": {
   "display_name": "Python 3",
   "language": "python",
   "name": "python3"
  },
  "language_info": {
   "codemirror_mode": {
    "name": "ipython",
    "version": 3
   },
   "file_extension": ".py",
   "mimetype": "text/x-python",
   "name": "python",
   "nbconvert_exporter": "python",
   "pygments_lexer": "ipython3",
   "version": "3.7.4"
  }
 },
 "nbformat": 4,
 "nbformat_minor": 2
}
