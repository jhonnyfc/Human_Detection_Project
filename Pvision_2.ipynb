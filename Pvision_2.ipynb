{
 "cells": [
  {
   "cell_type": "markdown",
   "metadata": {},
   "source": [
    "# P. Visión"
   ]
  },
  {
   "cell_type": "code",
   "execution_count": 1,
   "metadata": {},
   "outputs": [],
   "source": [
    "import numpy as np\n",
    "import cv2\n",
    "import os\n",
    "import random\n",
    "from skimage.feature import hog\n",
    "from skimage import exposure\n",
    "from matplotlib import pyplot as plt"
   ]
  },
  {
   "cell_type": "code",
   "execution_count": 2,
   "metadata": {},
   "outputs": [],
   "source": [
    "def leerFotos(path):\n",
    "    os.chdir(path)\n",
    "    listaPos = os.listdir()\n",
    "    fotosDic = {}\n",
    "    for i in range(len(listaPos)):\n",
    "        fotosDic[i] = cv2.imread(listaPos[i],0)\n",
    "    return fotosDic"
   ]
  },
  {
   "cell_type": "code",
   "execution_count": 3,
   "metadata": {},
   "outputs": [],
   "source": [
    "path = 'C:\\\\Users\\\\alumno\\\\Desktop\\\\Human_Detection_Project-master\\\\train_pos'\n",
    "fotosPosTrain = leerFotos(path)\n",
    "\n",
    "maskHeight,maskWidth = fotosPosTrain[0].shape\n",
    "\n",
    "path = 'C:\\\\Users\\\\alumno\\\\Desktop\\\\Human_Detection_Project-master\\\\train_neg'\n",
    "fotosNegTrainSinTratar = leerFotos(path)"
   ]
  },
  {
   "cell_type": "code",
   "execution_count": 4,
   "metadata": {},
   "outputs": [],
   "source": [
    "def generaImagenesRecortadas(dataPos,dataNeg):    \n",
    "    numeroAleatoriasPorFoto = 3       # Numero de recortadas aleatorias por foto\n",
    "    rowsFotoPersona = dataPos[0].shape[0]\n",
    "    colsFotoPersona = dataPos[0].shape[1]\n",
    "\n",
    "    rowsFotoEntorno = dataNeg[0].shape[0]\n",
    "    colsFotoEntorno = dataNeg[0].shape[1]\n",
    "\n",
    "    fotosNegTrain = {}\n",
    "    for i in range(len(dataNeg)):      \n",
    "        for j in range(numeroAleatoriasPorFoto):\n",
    "            randRow = random.randint(0,rowsFotoEntorno - rowsFotoPersona)\n",
    "            randCol = random.randint(0,colsFotoEntorno - colsFotoPersona)\n",
    "            randomImage = dataNeg[i][randRow:randRow + rowsFotoPersona,randCol: randCol + colsFotoPersona]\n",
    "            fotosNegTrain[(i,j)] = randomImage \n",
    "    return fotosNegTrain"
   ]
  },
  {
   "cell_type": "code",
   "execution_count": 5,
   "metadata": {},
   "outputs": [],
   "source": [
    "fotosNegTrain = generaImagenesRecortadas(fotosPosTrain,fotosNegTrainSinTratar)"
   ]
  },
  {
   "cell_type": "code",
   "execution_count": 6,
   "metadata": {},
   "outputs": [],
   "source": [
    "def parteImagen(imagen,maskHeight,maskWidth,desp):\n",
    "    arrayImagen = {}\n",
    "    aux = 0\n",
    "    for i in range(0,imagen.shape[0],desp):        \n",
    "        for j in range(0,imagen.shape[1],desp):\n",
    "            if (i+maskHeight < imagen.shape[0] and j+maskWidth < imagen.shape[1]):\n",
    "                arrayImagen[aux] = imagen[i:i+maskHeight,j:j+maskWidth]\n",
    "                aux = aux + 1\n",
    "    return arrayImagen"
   ]
  },
  {
   "cell_type": "code",
   "execution_count": 7,
   "metadata": {},
   "outputs": [],
   "source": [
    "def ampliacion_v2(imagen):    \n",
    "    r1 = np.min(imagen)\n",
    "    r2 = np.max(imagen)         \n",
    "    imagen = np.float32(imagen)\n",
    "    imagen = 255*(imagen-r1)/(r2-r1)\n",
    "    imagen = np.uint8(imagen)   \n",
    "    return imagen"
   ]
  },
  {
   "cell_type": "code",
   "execution_count": null,
   "metadata": {},
   "outputs": [],
   "source": [
    "def im_to_col(imagen, m, n):\n",
    "    filas, columnas = imagen.shape\n",
    "    a = int(m/2)\n",
    "    b = int(n/2)\n",
    "    imagen2 = np.zeros((m*n, filas*columnas))\n",
    "    imagen = cv2.copyMakeBorder(imagen, a, a, b, b, cv2.BORDER_REPLICATE)\n",
    "    aux = 0\n",
    "    for i in range(a, filas+a):\n",
    "        for j in range(b, columnas+b):\n",
    "            imagen2[:, aux] = imagen[i-a:i+a+1, j-b:j+b+1].flatten()\n",
    "            aux += 1\n",
    "    return imagen2"
   ]
  },
  {
   "cell_type": "code",
   "execution_count": null,
   "metadata": {},
   "outputs": [],
   "source": [
    "def filtro_espacial_v2(imagen, f):    \n",
    "    imagen2 = im_to_col(imagen,f.shape[0],f.shape[1])    \n",
    "    f2 = f.reshape(f.size,1)\n",
    "    imagen2 = np.float32(imagen2)\n",
    "    imagen2 = np.multiply(imagen2,f2)\n",
    "    imagen2 = np.sum(imagen2,axis=0)\n",
    "    imagen2 = np.uint8(imagen2)    \n",
    "    imagen2 = imagen2.reshape(imagen.shape)    \n",
    "    return imagen2"
   ]
  },
  {
   "cell_type": "code",
   "execution_count": 8,
   "metadata": {},
   "outputs": [
    {
     "data": {
      "image/png": "[encoded data removed]",
      "text/plain": [
       "<Figure size 432x288 with 1 Axes>"
      ]
     },
     "metadata": {
      "needs_background": "light"
     },
     "output_type": "display_data"
    }
   ],
   "source": [
    "# Hog test\n",
    "imageTest = fotosNegTrainSinTratar[10]\n",
    "hist,bins = np.histogram(imageTest.ravel(),256,[0,256])\n",
    "\n",
    "\n",
    "plt.hist(imageTest.ravel(),256,[0,256])\n",
    "plt.show()\n",
    "ecualizada = ampliacion_v2(imageTest)\n",
    "\n",
    "suavizada = filtro_espacial_v2():\n",
    "\n",
    "cv2.imshow('Test',imageTest)\n",
    "cv2.imshow('Ecualizada',ecualizada)\n",
    "cv2.imshow('Hog',hog(imageTest,visualize=True)[1])\n",
    "cv2.imshow('Hog de ecualizada',hog(ecualizada,visualize=True)[1])\n",
    "cv2.waitKey(0)\n",
    "cv2.destroyAllWindows()"
   ]
  },
  {
   "cell_type": "code",
   "execution_count": null,
   "metadata": {},
   "outputs": [],
   "source": [
    "def vectolizarHOG(imagenes,esPositivo):\n",
    "    ### Esata funcion aplica HOG a todas las imagenes del diccionario\n",
    "    \n",
    "    #tamaño del vector\n",
    "    tamVector = len(hog(imagenes[0]))\n",
    "    \n",
    "    #inicializamos la matriz que guarda los imagenes vectolizados\n",
    "    fdImagenes = np.zeros((len(imagenes),tamVector))\n",
    "    \n",
    "    for i in range(len(imagenes)):\n",
    "        fdImagenes[i] = hog(imagenes[i])\n",
    "    \n",
    "    #asignamos el vector de clases(y) \n",
    "    if esPositivo:\n",
    "        y = np.ones((len(imagenes),1))\n",
    "    else:\n",
    "        y = np.zeros((len(imagenes),1))\n",
    "\n",
    "    return fdImagenes,y\n",
    "\n"
   ]
  },
  {
   "cell_type": "code",
   "execution_count": null,
   "metadata": {},
   "outputs": [],
   "source": [
    "fotosNegTrain = generaImagenesRecortadas(fotosPosTrain,fotosNegTrainSinTratar)"
   ]
  },
  {
   "cell_type": "code",
   "execution_count": null,
   "metadata": {},
   "outputs": [],
   "source": [
    "fdPosTrain,yPos = vectolizarHOG(fotosPosTrain,1)\n",
    "\n",
    "fdNegTrain,yNeg = vectolizarHOG(fotosNegTrain,0)"
   ]
  },
  {
   "cell_type": "code",
   "execution_count": null,
   "metadata": {},
   "outputs": [],
   "source": [
    "fotosTrain = np.vstack((fdPosTrain,fdNegTrain))\n",
    "y = np.vstack((yPos,yNeg))"
   ]
  },
  {
   "cell_type": "code",
   "execution_count": null,
   "metadata": {},
   "outputs": [],
   "source": [
    "clf = svm.SVC()\n",
    "clf.fit(fotosTrain,y)"
   ]
  },
  {
   "cell_type": "code",
   "execution_count": null,
   "metadata": {},
   "outputs": [],
   "source": [
    "clf.score(fdPosTrain,yPos)"
   ]
  }
 ],
 "metadata": {
  "kernelspec": {
   "display_name": "Python [conda env:py37vision] *",
   "language": "python",
   "name": "conda-env-py37vision-py"
  },
  "language_info": {
   "codemirror_mode": {
    "name": "ipython",
    "version": 3
   },
   "file_extension": ".py",
   "mimetype": "text/x-python",
   "name": "python",
   "nbconvert_exporter": "python",
   "pygments_lexer": "ipython3",
   "version": "3.7.4"
  }
 },
 "nbformat": 4,
 "nbformat_minor": 2
}
