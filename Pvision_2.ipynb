{
 "cells": [
  {
   "cell_type": "markdown",
   "metadata": {},
   "source": [
    "# P. Visión"
   ]
  },
  {
   "cell_type": "code",
   "execution_count": 2,
   "metadata": {},
   "outputs": [],
   "source": [
    "import numpy as np\n",
    "import cv2\n",
    "import os\n",
    "import random\n",
    "from skimage.feature import hog\n",
    "from skimage import exposure"
   ]
  },
  {
   "cell_type": "code",
   "execution_count": 3,
   "metadata": {},
   "outputs": [],
   "source": [
    "os.chdir('C:\\\\Users\\\\alumno\\\\Desktop\\\\train_pos')\n",
    "listaPos = os.listdir()\n",
    "fotosPosTrain = {}\n",
    "for i in range(len(listaPos)):\n",
    "    fotosPosTrain[i] = cv2.imread(listaPos[i],0)"
   ]
  },
  {
   "cell_type": "code",
   "execution_count": 5,
   "metadata": {},
   "outputs": [],
   "source": [
    "os.chdir('C:\\\\Users\\\\alumno\\\\Desktop\\\\train_neg')\n",
    "listaNeg = os.listdir()\n",
    "fotosNegTrainSinTratar = {}\n",
    "for i in range(len(listaNeg)):\n",
    "    fotosNegTrainSinTratar[i] = cv2.imread(listaNeg[i],0)\n"
   ]
  },
  {
   "cell_type": "code",
   "execution_count": 14,
   "metadata": {},
   "outputs": [
    {
     "name": "stdout",
     "output_type": "stream",
     "text": [
      "(134, 70)\n"
     ]
    }
   ],
   "source": [
    "numeroAleatoriasPorFoto = 3\n",
    "rowsFotoPersona = fotosPosTrain[0].shape[0]\n",
    "colsFotoPersona = fotosPosTrain[0].shape[1]\n",
    "\n",
    "rowsFotoEntorno = fotosNegTrain[0].shape[0]\n",
    "colsFotoEntorno = fotosNegTrain[0].shape[1]\n",
    "\n",
    "fotosNegTrain = {}\n",
    "\n",
    "aux = 0\n",
    "for i in range(len(listaNeg)):\n",
    "    \n",
    "    for j in range(numeroAleatoriasPorFoto):\n",
    "        randRow = random.randint(0,rowsFotoEntorno - rowsFotoPersona)\n",
    "        randCol = random.randint(0,colsFotoEntorno - colsFotoPersona)\n",
    "        randomImage = fotosNegTrain[i][randRow:randRow + rowsFotoPersona,randCol: randCol + colsFotoPersona]\n",
    "        fotosNegTrain.add(aux,randomImage)\n",
    "        aux = aux + 1\n",
    "    \n",
    "cv2.imshow('Original',fotosNegTrain[0])\n",
    "cv2.imshow('Random',randomImage)\n",
    "cv2.waitKey(0)\n",
    "cv2.destroyAllWindows()"
   ]
  },
  {
   "cell_type": "code",
   "execution_count": null,
   "metadata": {},
   "outputs": [],
   "source": []
  },
  {
   "cell_type": "code",
   "execution_count": 67,
   "metadata": {},
   "outputs": [
    {
     "name": "stdout",
     "output_type": "stream",
     "text": [
      "67.0\n"
     ]
    }
   ],
   "source": [
    "nFilasFoto,nColsFoto = fotosPosTrain[0].shape\n",
    "print(nFilasFoto/2)"
   ]
  },
  {
   "cell_type": "code",
   "execution_count": 110,
   "metadata": {},
   "outputs": [
    {
     "name": "stdout",
     "output_type": "stream",
     "text": [
      "(563, 6804) (134, 70) 9380\n"
     ]
    }
   ],
   "source": [
    "fdPosTrain = np.zeros((len(fotosPosTrain),6804))\n",
    "for i in range(len(fotosPosTrain)):\n",
    "#fd,imHog = hog(fotosPosTrain[1], orientations=8, pixels_per_cell=(8, 8),cells_per_block=(3, 3),visualize=True)\n",
    "    fdPosTrain[i] = hog(fotosPosTrain[i])\n",
    "    #imHog_re = exposure.rescale_intensity(imHog, in_range = (0,10))\n",
    "print(fdPosTrain.shape,fotosPosTrain[1].shape,134*70)"
   ]
  },
  {
   "cell_type": "code",
   "execution_count": 6,
   "metadata": {},
   "outputs": [
    {
     "name": "stdout",
     "output_type": "stream",
     "text": [
      "(86184,) (240, 320)\n"
     ]
    }
   ],
   "source": [
    "# fdNegTrain = np.zeros((len(fotosNegTrain),6804))\n",
    "# for i in range(len(fotosPosTrain)):\n",
    "#     fdNegTrain[i] = hog(fotosPosTrain[i])\n",
    "fdTest,imHogTest = hog(fotosNegTrain[1], orientations=9, pixels_per_cell=(8, 8),cells_per_block=(3, 3),visualize=True)\n",
    "print(fdTest.shape,imHogTest.shape)"
   ]
  },
  {
   "cell_type": "code",
   "execution_count": 5,
   "metadata": {},
   "outputs": [],
   "source": [
    "cv2.imshow(\"sadas\",imHogTest)\n",
    "cv2.imshow(\"ds2da\",fotosNegTrain[1])\n",
    "cv2.waitKey(0)\n",
    "cv2.destroyAllWindows()"
   ]
  },
  {
   "cell_type": "code",
   "execution_count": 85,
   "metadata": {},
   "outputs": [
    {
     "name": "stdout",
     "output_type": "stream",
     "text": [
      "[0.30046368 0.14791104 0.10443662 ... 0.12432016 0.09187911 0.03539276]\n"
     ]
    }
   ],
   "source": [
    "print()"
   ]
  },
  {
   "cell_type": "code",
   "execution_count": null,
   "metadata": {},
   "outputs": [],
   "source": []
  }
 ],
 "metadata": {
  "kernelspec": {
   "display_name": "Python [conda env:py37vision]",
   "language": "python",
   "name": "conda-env-py37vision-py"
  },
  "language_info": {
   "codemirror_mode": {
    "name": "ipython",
    "version": 3
   },
   "file_extension": ".py",
   "mimetype": "text/x-python",
   "name": "python",
   "nbconvert_exporter": "python",
   "pygments_lexer": "ipython3",
   "version": "3.7.4"
  }
 },
 "nbformat": 4,
 "nbformat_minor": 2
}
